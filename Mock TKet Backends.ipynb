{
 "cells": [
  {
   "cell_type": "code",
   "execution_count": 1,
   "metadata": {},
   "outputs": [
    {
     "name": "stdout",
     "output_type": "stream",
     "text": [
      "[[Nduv('2020-12-12T06:29:08+09:00', T1, us, 184.73939094432617), Nduv('2020-12-12T06:30:26+09:00', T2, us, 195.43514807207902), Nduv('2020-12-12T06:42:53+09:00', frequency, GHz, 4.974446855948306), Nduv('2020-12-12T06:42:53+09:00', anharmonicity, GHz, -0.34847270441069783), Nduv('2020-12-12T06:27:24+09:00', readout_error, , 0.061900000000000066), Nduv('2020-12-12T06:27:24+09:00', prob_meas0_prep1, , 0.0754), Nduv('2020-12-12T06:27:24+09:00', prob_meas1_prep0, , 0.0484), Nduv('2020-12-12T06:27:24+09:00', readout_length, ns, 3555.555555555555)]]\n",
      "        ┌───┐ ░ ┌─┐\n",
      "   q_0: ┤ H ├─░─┤M├\n",
      "        └───┘ ░ └╥┘\n",
      "meas: 1/═════════╩═\n",
      "                 0 \n",
      "        ┌──────────┐ ░ ┌─┐\n",
      "   q_0: ┤ U2(0,pi) ├─░─┤M├\n",
      "        └──────────┘ ░ └╥┘\n",
      "meas: 1/════════════════╩═\n",
      "                        0 \n"
     ]
    }
   ],
   "source": [
    "from typing import Dict, Iterable, List, Optional, Tuple, Union\n",
    "import qiskit\n",
    "from qiskit.visualization import plot_gate_map\n",
    "\n",
    "from pytket.qiskit import qiskit_to_tk\n",
    "from pytket.utils import Graph\n",
    "from pytket import Circuit, OpType\n",
    "from pytket.qiskit import process_characterisation\n",
    "from pytket.backends.resulthandle import _ResultIdTuple\n",
    "from pytket.backends import Backend\n",
    "from pytket.device import Device\n",
    "from pytket.routing import NoiseAwarePlacement, Architecture\n",
    "from pytket.passes import (\n",
    "    BasePass,\n",
    "    RebaseIBM,\n",
    "    SequencePass,\n",
    "    SynthesiseIBM,\n",
    "    CXMappingPass,\n",
    "    DecomposeBoxes,\n",
    "    FullPeepholeOptimise,\n",
    "    CliffordSimp,\n",
    ")\n",
    "from pytket.predicates import (\n",
    "    NoMidMeasurePredicate,\n",
    "    NoSymbolsPredicate,\n",
    "    DirectednessPredicate,\n",
    "    GateSetPredicate,\n",
    "    NoClassicalControlPredicate,\n",
    "    NoFastFeedforwardPredicate,\n",
    "    Predicate,\n",
    ")\n",
    "\n",
    "\n",
    "\n",
    "from mock.MockBackends_Qiskit import FakeOwnBackend"
   ]
  },
  {
   "cell_type": "markdown",
   "metadata": {},
   "source": [
    "# 1. Create a custom Qiskit backend\n",
    "\n",
    "create a custom fake backend for testing"
   ]
  },
  {
   "cell_type": "code",
   "execution_count": 2,
   "metadata": {},
   "outputs": [],
   "source": [
    "my_qiskit_fake_backend = FakeOwnBackend()"
   ]
  },
  {
   "cell_type": "code",
   "execution_count": 3,
   "metadata": {},
   "outputs": [
    {
     "data": {
      "image/png": "[encoded data removed]",
      "text/plain": [
       "<Figure size 360x360 with 1 Axes>"
      ]
     },
     "execution_count": 3,
     "metadata": {},
     "output_type": "execute_result"
    }
   ],
   "source": [
    "plot_gate_map(my_qiskit_fake_backend)"
   ]
  },
  {
   "cell_type": "markdown",
   "metadata": {},
   "source": [
    "# 2. Convert to Tket"
   ]
  },
  {
   "cell_type": "code",
   "execution_count": 4,
   "metadata": {},
   "outputs": [],
   "source": [
    "class FakeTKetIBMBackend(Backend):\n",
    "    \n",
    "    def __init__(self, device):\n",
    "        super().__init__()\n",
    "        self._device = device\n",
    "        \n",
    "    @property\n",
    "    def device(self) -> Optional[Device]:\n",
    "        return self._device\n",
    "    \n",
    "    @property\n",
    "    def required_predicates(self) -> List[Predicate]:\n",
    "        return [\n",
    "            NoClassicalControlPredicate(),\n",
    "            NoFastFeedforwardPredicate(),\n",
    "            NoMidMeasurePredicate(),\n",
    "            NoSymbolsPredicate(),\n",
    "            GateSetPredicate(\n",
    "                {\n",
    "                    OpType.CX,\n",
    "                    OpType.U1,\n",
    "                    OpType.U2,\n",
    "                    OpType.U3,\n",
    "                    OpType.noop,\n",
    "                    OpType.Measure,\n",
    "                    OpType.Barrier,\n",
    "                }\n",
    "            ),\n",
    "            DirectednessPredicate(self._device.architecture),\n",
    "        ]\n",
    "    \n",
    "    def default_compilation_pass(self, optimisation_level: int = 1) -> BasePass:\n",
    "        assert optimisation_level in range(3)\n",
    "        passlist = [DecomposeBoxes()]\n",
    "        if optimisation_level == 0:\n",
    "            passlist.append(RebaseIBM())\n",
    "        elif optimisation_level == 1:\n",
    "            passlist.append(SynthesiseIBM())\n",
    "        elif optimisation_level == 2:\n",
    "            passlist.append(FullPeepholeOptimise())\n",
    "        passlist.append(\n",
    "            CXMappingPass(\n",
    "                self._device,\n",
    "                NoiseAwarePlacement(self._device),\n",
    "                directed_cx=True,\n",
    "                delay_measures=True,\n",
    "            )\n",
    "        )\n",
    "        if optimisation_level == 1:\n",
    "            passlist.append(SynthesiseIBM())\n",
    "        if optimisation_level == 2:\n",
    "            passlist.extend([CliffordSimp(False), SynthesiseIBM()])\n",
    "        return SequencePass(passlist)\n",
    "    \n",
    "    @property\n",
    "    def _result_id_type(self) -> _ResultIdTuple:\n",
    "        return (str, int)\n",
    "    \n",
    "    def process_circuits():\n",
    "        pass\n",
    "    \n",
    "    def circuit_status():\n",
    "        pass"
   ]
  },
  {
   "cell_type": "code",
   "execution_count": 5,
   "metadata": {},
   "outputs": [],
   "source": [
    "def convert_to_tket_device(qiskit_backend, verbose= False) -> Optional[Device]:\n",
    "    \n",
    "    characterisation = process_characterisation(qiskit_backend)\n",
    "    \n",
    "    if verbose:\n",
    "        print(characterisation)\n",
    "    \n",
    "    return Device(\n",
    "        characterisation.get(\"NodeErrors\", {}),\n",
    "        characterisation.get(\"EdgeErrors\", {}),\n",
    "        characterisation.get(\"Architecture\", Architecture([]))\n",
    "    )"
   ]
  },
  {
   "cell_type": "code",
   "execution_count": 6,
   "metadata": {},
   "outputs": [
    {
     "name": "stdout",
     "output_type": "stream",
     "text": [
      "{'NodeErrors': {node[0]: <pytket._tket.device.QubitErrorContainer object at 0x7fa6ea57b9b0>}, 'EdgeErrors': {}, 'Architecture': <tket::FullyConnected, nodes=1>, 't1times': {0: 184.73939094432617}, 't2times': {0: 195.43514807207902}, 'Frequencies': {0: 4.974446855948306}, 'GateTimes': {(OpType.noop, (0,)): 142.22222222222223, (OpType.U1, (0,)): 0.0, (OpType.U2, (0,)): 142.22222222222223, (OpType.U3, (0,)): 284.44444444444446}}\n"
     ]
    }
   ],
   "source": [
    "my_device = convert_to_tket_device(my_qiskit_fake_backend, verbose= True)"
   ]
  },
  {
   "cell_type": "code",
   "execution_count": 7,
   "metadata": {},
   "outputs": [
    {
     "data": {
      "text/plain": [
       "Single qubit errors: \n",
       "node[0]\n",
       "    Readout: 0.0619\n",
       "    U3: 0.000919006\n",
       "    U2: 0.000459608\n",
       "    U1: 0\n",
       "    noop: 0.000459608\n",
       "\n",
       "Two qubit errors: "
      ]
     },
     "execution_count": 7,
     "metadata": {},
     "output_type": "execute_result"
    }
   ],
   "source": [
    "my_device"
   ]
  },
  {
   "cell_type": "code",
   "execution_count": 8,
   "metadata": {},
   "outputs": [],
   "source": [
    "my_tket_fake_backend = FakeTKetIBMBackend(my_device)"
   ]
  },
  {
   "cell_type": "markdown",
   "metadata": {},
   "source": [
    "# 3. Compile Example Circuit"
   ]
  },
  {
   "cell_type": "code",
   "execution_count": 9,
   "metadata": {},
   "outputs": [
    {
     "data": {
      "image/png": "[encoded data removed]",
      "text/plain": [
       "<Figure size 351.659x144.48 with 1 Axes>"
      ]
     },
     "execution_count": 9,
     "metadata": {},
     "output_type": "execute_result"
    }
   ],
   "source": [
    "qiskit_circuit = qiskit.QuantumCircuit(1)\n",
    "qiskit_circuit.h(0)\n",
    "qiskit_circuit.measure_all()\n",
    "\n",
    "qiskit_circuit.draw(output='mpl')"
   ]
  },
  {
   "cell_type": "code",
   "execution_count": 10,
   "metadata": {},
   "outputs": [
    {
     "data": {
      "text/plain": [
       "[H q[0]; Barrier q[0]; Measure q[0] --> meas[0]; ]"
      ]
     },
     "execution_count": 10,
     "metadata": {},
     "output_type": "execute_result"
    }
   ],
   "source": [
    "tket_circuit = qiskit_to_tk(qiskit_circuit)\n",
    "tket_circuit"
   ]
  },
  {
   "cell_type": "code",
   "execution_count": 11,
   "metadata": {},
   "outputs": [
    {
     "data": {
      "image/svg+xml": [
       "<?xml version=\"1.0\" encoding=\"UTF-8\" standalone=\"no\"?>\n",
       "<!DOCTYPE svg PUBLIC \"-//W3C//DTD SVG 1.1//EN\"\n",
       " \"http://www.w3.org/Graphics/SVG/1.1/DTD/svg11.dtd\">\n",
       "<!-- Generated by graphviz version 2.43.0 (0)\n",
       " -->\n",
       "<!-- Title: Circuit Pages: 1 -->\n",
       "<svg width=\"245pt\" height=\"72pt\"\n",
       " viewBox=\"0.00 0.00 245.00 72.00\" xmlns=\"http://www.w3.org/2000/svg\" xmlns:xlink=\"http://www.w3.org/1999/xlink\">\n",
       "<g id=\"graph0\" class=\"graph\" transform=\"scale(1 1) rotate(0) translate(4 68)\">\n",
       "<title>Circuit</title>\n",
       "<polygon fill=\"white\" stroke=\"transparent\" points=\"-4,4 -4,-68 241,-68 241,4 -4,4\"/>\n",
       "<g id=\"clust1\" class=\"cluster\">\n",
       "<title>cluster_q_inputs</title>\n",
       "<path fill=\"lightgrey\" stroke=\"lightgrey\" d=\"M18.53,-23C18.53,-23 23.07,-23 23.07,-23 25.33,-23 27.6,-25.27 27.6,-27.53 27.6,-27.53 27.6,-32.47 27.6,-32.47 27.6,-34.73 25.33,-37 23.07,-37 23.07,-37 18.53,-37 18.53,-37 16.27,-37 14,-34.73 14,-32.47 14,-32.47 14,-27.53 14,-27.53 14,-25.27 16.27,-23 18.53,-23\"/>\n",
       "</g>\n",
       "<g id=\"clust2\" class=\"cluster\">\n",
       "<title>cluster_c_inputs</title>\n",
       "<path fill=\"lightgrey\" stroke=\"lightgrey\" d=\"M100.73,-8C100.73,-8 105.27,-8 105.27,-8 107.53,-8 109.8,-10.27 109.8,-12.53 109.8,-12.53 109.8,-17.47 109.8,-17.47 109.8,-19.73 107.53,-22 105.27,-22 105.27,-22 100.73,-22 100.73,-22 98.47,-22 96.2,-19.73 96.2,-17.47 96.2,-17.47 96.2,-12.53 96.2,-12.53 96.2,-10.27 98.47,-8 100.73,-8\"/>\n",
       "</g>\n",
       "<g id=\"clust3\" class=\"cluster\">\n",
       "<title>cluster_q_outputs</title>\n",
       "<path fill=\"lightgrey\" stroke=\"lightgrey\" d=\"M219.93,-23C219.93,-23 224.47,-23 224.47,-23 226.73,-23 229,-25.27 229,-27.53 229,-27.53 229,-32.47 229,-32.47 229,-34.73 226.73,-37 224.47,-37 224.47,-37 219.93,-37 219.93,-37 217.67,-37 215.4,-34.73 215.4,-32.47 215.4,-32.47 215.4,-27.53 215.4,-27.53 215.4,-25.27 217.67,-23 219.93,-23\"/>\n",
       "</g>\n",
       "<g id=\"clust4\" class=\"cluster\">\n",
       "<title>cluster_c_outputs</title>\n",
       "<path fill=\"lightgrey\" stroke=\"lightgrey\" d=\"M219.93,-8C219.93,-8 224.47,-8 224.47,-8 226.73,-8 229,-10.27 229,-12.53 229,-12.53 229,-17.47 229,-17.47 229,-19.73 226.73,-22 224.47,-22 224.47,-22 219.93,-22 219.93,-22 217.67,-22 215.4,-19.73 215.4,-17.47 215.4,-17.47 215.4,-12.53 215.4,-12.53 215.4,-10.27 217.67,-8 219.93,-8\"/>\n",
       "</g>\n",
       "<g id=\"clust5\" class=\"cluster\">\n",
       "<title>cluster_4</title>\n",
       "<path fill=\"lightblue\" stroke=\"lightblue\" d=\"M48.13,-23C48.13,-23 56.67,-23 56.67,-23 60.93,-23 65.2,-27.27 65.2,-31.53 65.2,-31.53 65.2,-47.47 65.2,-47.47 65.2,-51.73 60.93,-56 56.67,-56 56.67,-56 48.13,-56 48.13,-56 43.87,-56 39.6,-51.73 39.6,-47.47 39.6,-47.47 39.6,-31.53 39.6,-31.53 39.6,-27.27 43.87,-23 48.13,-23\"/>\n",
       "<text text-anchor=\"middle\" x=\"52.4\" y=\"-44\" font-family=\"Times,serif\" font-size=\"10.00\">H</text>\n",
       "</g>\n",
       "<g id=\"clust6\" class=\"cluster\">\n",
       "<title>cluster_5</title>\n",
       "<path fill=\"lightblue\" stroke=\"lightblue\" d=\"M88.2,-23C88.2,-23 118.8,-23 118.8,-23 124.3,-23 129.8,-28.5 129.8,-34 129.8,-34 129.8,-45 129.8,-45 129.8,-50.5 124.3,-56 118.8,-56 118.8,-56 88.2,-56 88.2,-56 82.7,-56 77.2,-50.5 77.2,-45 77.2,-45 77.2,-34 77.2,-34 77.2,-28.5 82.7,-23 88.2,-23\"/>\n",
       "<text text-anchor=\"middle\" x=\"103.5\" y=\"-44\" font-family=\"Times,serif\" font-size=\"10.00\">Barrier</text>\n",
       "</g>\n",
       "<g id=\"clust7\" class=\"cluster\">\n",
       "<title>cluster_6</title>\n",
       "<path fill=\"lightblue\" stroke=\"lightblue\" d=\"M153.8,-8C153.8,-8 191.4,-8 191.4,-8 197.4,-8 203.4,-14 203.4,-20 203.4,-20 203.4,-44 203.4,-44 203.4,-50 197.4,-56 191.4,-56 191.4,-56 153.8,-56 153.8,-56 147.8,-56 141.8,-50 141.8,-44 141.8,-44 141.8,-20 141.8,-20 141.8,-14 147.8,-8 153.8,-8\"/>\n",
       "<text text-anchor=\"middle\" x=\"172.6\" y=\"-44\" font-family=\"Times,serif\" font-size=\"10.00\">Measure</text>\n",
       "</g>\n",
       "<!-- (0, 0) -->\n",
       "<g id=\"node1\" class=\"node\">\n",
       "<title>(0, 0)</title>\n",
       "<ellipse fill=\"blue\" stroke=\"blue\" cx=\"20.8\" cy=\"-30\" rx=\"1.8\" ry=\"1.8\"/>\n",
       "<text text-anchor=\"middle\" x=\"9.5\" y=\"-21.8\" font-family=\"Courier,monospace\" font-size=\"8.00\">q[0]</text>\n",
       "</g>\n",
       "<!-- (4, 0) -->\n",
       "<g id=\"node5\" class=\"node\">\n",
       "<title>(4, 0)</title>\n",
       "<ellipse fill=\"black\" stroke=\"black\" cx=\"52.4\" cy=\"-30\" rx=\"1.8\" ry=\"1.8\"/>\n",
       "</g>\n",
       "<!-- (0, 0)&#45;&gt;(4, 0) -->\n",
       "<g id=\"edge1\" class=\"edge\">\n",
       "<title>(0, 0)&#45;&gt;(4, 0)</title>\n",
       "<path fill=\"none\" stroke=\"blue\" d=\"M23.07,-30C27.41,-30 41.71,-30 48.18,-30\"/>\n",
       "<polygon fill=\"blue\" stroke=\"blue\" points=\"50.42,-30 48.42,-31.13 49.42,-30 48.42,-30 48.42,-30 48.42,-30 49.42,-30 48.42,-28.88 50.42,-30 50.42,-30\"/>\n",
       "</g>\n",
       "<!-- (2, 0) -->\n",
       "<g id=\"node2\" class=\"node\">\n",
       "<title>(2, 0)</title>\n",
       "<ellipse fill=\"slategray\" stroke=\"slategray\" cx=\"103\" cy=\"-15\" rx=\"1.8\" ry=\"1.8\"/>\n",
       "<text text-anchor=\"middle\" x=\"85.2\" y=\"-6.8\" font-family=\"Courier,monospace\" font-size=\"8.00\">meas[0]</text>\n",
       "</g>\n",
       "<!-- (6, 1) -->\n",
       "<g id=\"node8\" class=\"node\">\n",
       "<title>(6, 1)</title>\n",
       "<ellipse fill=\"black\" stroke=\"black\" cx=\"172.6\" cy=\"-15\" rx=\"1.8\" ry=\"1.8\"/>\n",
       "<text text-anchor=\"middle\" x=\"167.8\" y=\"-6.8\" font-family=\"Helvetica,sans-Serif\" font-size=\"8.00\">1</text>\n",
       "</g>\n",
       "<!-- (2, 0)&#45;&gt;(6, 1) -->\n",
       "<g id=\"edge2\" class=\"edge\">\n",
       "<title>(2, 0)&#45;&gt;(6, 1)</title>\n",
       "<path fill=\"none\" stroke=\"slategray\" d=\"M105.17,-15C112.87,-15 156.17,-15 168.39,-15\"/>\n",
       "<polygon fill=\"slategray\" stroke=\"slategray\" points=\"170.6,-15 168.6,-16.13 169.6,-15 168.6,-15 168.6,-15 168.6,-15 169.6,-15 168.6,-13.88 170.6,-15 170.6,-15\"/>\n",
       "</g>\n",
       "<!-- (1, 0) -->\n",
       "<g id=\"node3\" class=\"node\">\n",
       "<title>(1, 0)</title>\n",
       "<ellipse fill=\"blue\" stroke=\"blue\" cx=\"222.2\" cy=\"-30\" rx=\"1.8\" ry=\"1.8\"/>\n",
       "<text text-anchor=\"middle\" x=\"210.9\" y=\"-21.8\" font-family=\"Courier,monospace\" font-size=\"8.00\">q[0]</text>\n",
       "</g>\n",
       "<!-- (3, 0) -->\n",
       "<g id=\"node4\" class=\"node\">\n",
       "<title>(3, 0)</title>\n",
       "<ellipse fill=\"slategray\" stroke=\"slategray\" cx=\"222.2\" cy=\"-15\" rx=\"1.8\" ry=\"1.8\"/>\n",
       "<text text-anchor=\"middle\" x=\"204.4\" y=\"-6.8\" font-family=\"Courier,monospace\" font-size=\"8.00\">meas[0]</text>\n",
       "</g>\n",
       "<!-- (5, 0) -->\n",
       "<g id=\"node6\" class=\"node\">\n",
       "<title>(5, 0)</title>\n",
       "<ellipse fill=\"black\" stroke=\"black\" cx=\"103\" cy=\"-30\" rx=\"1.8\" ry=\"1.8\"/>\n",
       "</g>\n",
       "<!-- (4, 0)&#45;&gt;(5, 0) -->\n",
       "<g id=\"edge3\" class=\"edge\">\n",
       "<title>(4, 0)&#45;&gt;(5, 0)</title>\n",
       "<path fill=\"none\" stroke=\"blue\" d=\"M54.24,-30C59.59,-30 88.85,-30 98.74,-30\"/>\n",
       "<polygon fill=\"blue\" stroke=\"blue\" points=\"100.97,-30 98.97,-31.13 99.97,-30 98.97,-30 98.97,-30 98.97,-30 99.97,-30 98.97,-28.88 100.97,-30 100.97,-30\"/>\n",
       "</g>\n",
       "<!-- (6, 0) -->\n",
       "<g id=\"node7\" class=\"node\">\n",
       "<title>(6, 0)</title>\n",
       "<ellipse fill=\"black\" stroke=\"black\" cx=\"172.6\" cy=\"-30\" rx=\"1.8\" ry=\"1.8\"/>\n",
       "<text text-anchor=\"middle\" x=\"167.8\" y=\"-21.8\" font-family=\"Helvetica,sans-Serif\" font-size=\"8.00\">0</text>\n",
       "</g>\n",
       "<!-- (5, 0)&#45;&gt;(6, 0) -->\n",
       "<g id=\"edge4\" class=\"edge\">\n",
       "<title>(5, 0)&#45;&gt;(6, 0)</title>\n",
       "<path fill=\"none\" stroke=\"blue\" d=\"M105.17,-30C112.87,-30 156.17,-30 168.39,-30\"/>\n",
       "<polygon fill=\"blue\" stroke=\"blue\" points=\"170.6,-30 168.6,-31.13 169.6,-30 168.6,-30 168.6,-30 168.6,-30 169.6,-30 168.6,-28.88 170.6,-30 170.6,-30\"/>\n",
       "</g>\n",
       "<!-- (6, 0)&#45;&gt;(1, 0) -->\n",
       "<g id=\"edge5\" class=\"edge\">\n",
       "<title>(6, 0)&#45;&gt;(1, 0)</title>\n",
       "<path fill=\"none\" stroke=\"blue\" d=\"M174.43,-30C179.62,-30 207.83,-30 217.75,-30\"/>\n",
       "<polygon fill=\"blue\" stroke=\"blue\" points=\"220.19,-30 218.19,-31.13 219.19,-30 218.19,-30 218.19,-30 218.19,-30 219.19,-30 218.19,-28.88 220.19,-30 220.19,-30\"/>\n",
       "</g>\n",
       "<!-- (6, 1)&#45;&gt;(3, 0) -->\n",
       "<g id=\"edge6\" class=\"edge\">\n",
       "<title>(6, 1)&#45;&gt;(3, 0)</title>\n",
       "<path fill=\"none\" stroke=\"slategray\" d=\"M174.43,-15C179.62,-15 207.83,-15 217.75,-15\"/>\n",
       "<polygon fill=\"slategray\" stroke=\"slategray\" points=\"220.19,-15 218.19,-16.13 219.19,-15 218.19,-15 218.19,-15 218.19,-15 219.19,-15 218.19,-13.88 220.19,-15 220.19,-15\"/>\n",
       "</g>\n",
       "</g>\n",
       "</svg>\n"
      ],
      "text/plain": [
       "<graphviz.dot.Digraph at 0x7fa6ea4dac50>"
      ]
     },
     "execution_count": 11,
     "metadata": {},
     "output_type": "execute_result"
    }
   ],
   "source": [
    "Graph(tket_circuit).get_DAG()"
   ]
  },
  {
   "cell_type": "code",
   "execution_count": 12,
   "metadata": {},
   "outputs": [],
   "source": [
    "my_tket_fake_backend.compile_circuit(tket_circuit)"
   ]
  },
  {
   "cell_type": "code",
   "execution_count": 13,
   "metadata": {},
   "outputs": [
    {
     "data": {
      "text/plain": [
       "[U3(0.5*PI, 0*PI, 1*PI) FCNode[0]; Barrier FCNode[0]; Measure FCNode[0] --> meas[0]; ]"
      ]
     },
     "execution_count": 13,
     "metadata": {},
     "output_type": "execute_result"
    }
   ],
   "source": [
    "tket_circuit"
   ]
  },
  {
   "cell_type": "code",
   "execution_count": 14,
   "metadata": {},
   "outputs": [
    {
     "data": {
      "image/svg+xml": [
       "<?xml version=\"1.0\" encoding=\"UTF-8\" standalone=\"no\"?>\n",
       "<!DOCTYPE svg PUBLIC \"-//W3C//DTD SVG 1.1//EN\"\n",
       " \"http://www.w3.org/Graphics/SVG/1.1/DTD/svg11.dtd\">\n",
       "<!-- Generated by graphviz version 2.43.0 (0)\n",
       " -->\n",
       "<!-- Title: Circuit Pages: 1 -->\n",
       "<svg width=\"366pt\" height=\"72pt\"\n",
       " viewBox=\"0.00 0.00 366.00 72.00\" xmlns=\"http://www.w3.org/2000/svg\" xmlns:xlink=\"http://www.w3.org/1999/xlink\">\n",
       "<g id=\"graph0\" class=\"graph\" transform=\"scale(1 1) rotate(0) translate(4 68)\">\n",
       "<title>Circuit</title>\n",
       "<polygon fill=\"white\" stroke=\"transparent\" points=\"-4,4 -4,-68 362,-68 362,4 -4,4\"/>\n",
       "<g id=\"clust1\" class=\"cluster\">\n",
       "<title>cluster_q_inputs</title>\n",
       "<path fill=\"lightgrey\" stroke=\"lightgrey\" d=\"M40.53,-23C40.53,-23 45.07,-23 45.07,-23 47.33,-23 49.6,-25.27 49.6,-27.53 49.6,-27.53 49.6,-32.47 49.6,-32.47 49.6,-34.73 47.33,-37 45.07,-37 45.07,-37 40.53,-37 40.53,-37 38.27,-37 36,-34.73 36,-32.47 36,-32.47 36,-27.53 36,-27.53 36,-25.27 38.27,-23 40.53,-23\"/>\n",
       "</g>\n",
       "<g id=\"clust2\" class=\"cluster\">\n",
       "<title>cluster_c_inputs</title>\n",
       "<path fill=\"lightgrey\" stroke=\"lightgrey\" d=\"M221.73,-8C221.73,-8 226.27,-8 226.27,-8 228.53,-8 230.8,-10.27 230.8,-12.53 230.8,-12.53 230.8,-17.47 230.8,-17.47 230.8,-19.73 228.53,-22 226.27,-22 226.27,-22 221.73,-22 221.73,-22 219.47,-22 217.2,-19.73 217.2,-17.47 217.2,-17.47 217.2,-12.53 217.2,-12.53 217.2,-10.27 219.47,-8 221.73,-8\"/>\n",
       "</g>\n",
       "<g id=\"clust3\" class=\"cluster\">\n",
       "<title>cluster_q_outputs</title>\n",
       "<path fill=\"lightgrey\" stroke=\"lightgrey\" d=\"M340.93,-23C340.93,-23 345.47,-23 345.47,-23 347.73,-23 350,-25.27 350,-27.53 350,-27.53 350,-32.47 350,-32.47 350,-34.73 347.73,-37 345.47,-37 345.47,-37 340.93,-37 340.93,-37 338.67,-37 336.4,-34.73 336.4,-32.47 336.4,-32.47 336.4,-27.53 336.4,-27.53 336.4,-25.27 338.67,-23 340.93,-23\"/>\n",
       "</g>\n",
       "<g id=\"clust4\" class=\"cluster\">\n",
       "<title>cluster_c_outputs</title>\n",
       "<path fill=\"lightgrey\" stroke=\"lightgrey\" d=\"M340.93,-8C340.93,-8 345.47,-8 345.47,-8 347.73,-8 350,-10.27 350,-12.53 350,-12.53 350,-17.47 350,-17.47 350,-19.73 347.73,-22 345.47,-22 345.47,-22 340.93,-22 340.93,-22 338.67,-22 336.4,-19.73 336.4,-17.47 336.4,-17.47 336.4,-12.53 336.4,-12.53 336.4,-10.27 338.67,-8 340.93,-8\"/>\n",
       "</g>\n",
       "<g id=\"clust5\" class=\"cluster\">\n",
       "<title>cluster_4</title>\n",
       "<path fill=\"lightblue\" stroke=\"lightblue\" d=\"M209.2,-23C209.2,-23 239.8,-23 239.8,-23 245.3,-23 250.8,-28.5 250.8,-34 250.8,-34 250.8,-45 250.8,-45 250.8,-50.5 245.3,-56 239.8,-56 239.8,-56 209.2,-56 209.2,-56 203.7,-56 198.2,-50.5 198.2,-45 198.2,-45 198.2,-34 198.2,-34 198.2,-28.5 203.7,-23 209.2,-23\"/>\n",
       "<text text-anchor=\"middle\" x=\"224.5\" y=\"-44\" font-family=\"Times,serif\" font-size=\"10.00\">Barrier</text>\n",
       "</g>\n",
       "<g id=\"clust6\" class=\"cluster\">\n",
       "<title>cluster_5</title>\n",
       "<path fill=\"lightblue\" stroke=\"lightblue\" d=\"M274.8,-8C274.8,-8 312.4,-8 312.4,-8 318.4,-8 324.4,-14 324.4,-20 324.4,-20 324.4,-44 324.4,-44 324.4,-50 318.4,-56 312.4,-56 312.4,-56 274.8,-56 274.8,-56 268.8,-56 262.8,-50 262.8,-44 262.8,-44 262.8,-20 262.8,-20 262.8,-14 268.8,-8 274.8,-8\"/>\n",
       "<text text-anchor=\"middle\" x=\"293.6\" y=\"-44\" font-family=\"Times,serif\" font-size=\"10.00\">Measure</text>\n",
       "</g>\n",
       "<g id=\"clust7\" class=\"cluster\">\n",
       "<title>cluster_6</title>\n",
       "<path fill=\"lightblue\" stroke=\"lightblue\" d=\"M72.6,-23C72.6,-23 175.2,-23 175.2,-23 180.7,-23 186.2,-28.5 186.2,-34 186.2,-34 186.2,-45 186.2,-45 186.2,-50.5 180.7,-56 175.2,-56 175.2,-56 72.6,-56 72.6,-56 67.1,-56 61.6,-50.5 61.6,-45 61.6,-45 61.6,-34 61.6,-34 61.6,-28.5 67.1,-23 72.6,-23\"/>\n",
       "<text text-anchor=\"middle\" x=\"123.9\" y=\"-44\" font-family=\"Times,serif\" font-size=\"10.00\">U3(0.5*PI, 0*PI, 1*PI)</text>\n",
       "</g>\n",
       "<!-- (0, 0) -->\n",
       "<g id=\"node1\" class=\"node\">\n",
       "<title>(0, 0)</title>\n",
       "<ellipse fill=\"blue\" stroke=\"blue\" cx=\"42.8\" cy=\"-30\" rx=\"1.8\" ry=\"1.8\"/>\n",
       "<text text-anchor=\"middle\" x=\"20.5\" y=\"-21.8\" font-family=\"Courier,monospace\" font-size=\"8.00\">FCNode[0]</text>\n",
       "</g>\n",
       "<!-- (6, 0) -->\n",
       "<g id=\"node8\" class=\"node\">\n",
       "<title>(6, 0)</title>\n",
       "<ellipse fill=\"black\" stroke=\"black\" cx=\"123.4\" cy=\"-30\" rx=\"1.8\" ry=\"1.8\"/>\n",
       "</g>\n",
       "<!-- (0, 0)&#45;&gt;(6, 0) -->\n",
       "<g id=\"edge1\" class=\"edge\">\n",
       "<title>(0, 0)&#45;&gt;(6, 0)</title>\n",
       "<path fill=\"none\" stroke=\"blue\" d=\"M44.68,-30C52.21,-30 105.65,-30 119.26,-30\"/>\n",
       "<polygon fill=\"blue\" stroke=\"blue\" points=\"121.42,-30 119.42,-31.13 120.42,-30 119.42,-30 119.42,-30 119.42,-30 120.42,-30 119.42,-28.88 121.42,-30 121.42,-30\"/>\n",
       "</g>\n",
       "<!-- (2, 0) -->\n",
       "<g id=\"node2\" class=\"node\">\n",
       "<title>(2, 0)</title>\n",
       "<ellipse fill=\"slategray\" stroke=\"slategray\" cx=\"224\" cy=\"-15\" rx=\"1.8\" ry=\"1.8\"/>\n",
       "<text text-anchor=\"middle\" x=\"206.2\" y=\"-6.8\" font-family=\"Courier,monospace\" font-size=\"8.00\">meas[0]</text>\n",
       "</g>\n",
       "<!-- (5, 1) -->\n",
       "<g id=\"node7\" class=\"node\">\n",
       "<title>(5, 1)</title>\n",
       "<ellipse fill=\"black\" stroke=\"black\" cx=\"293.6\" cy=\"-15\" rx=\"1.8\" ry=\"1.8\"/>\n",
       "<text text-anchor=\"middle\" x=\"288.8\" y=\"-6.8\" font-family=\"Helvetica,sans-Serif\" font-size=\"8.00\">1</text>\n",
       "</g>\n",
       "<!-- (2, 0)&#45;&gt;(5, 1) -->\n",
       "<g id=\"edge2\" class=\"edge\">\n",
       "<title>(2, 0)&#45;&gt;(5, 1)</title>\n",
       "<path fill=\"none\" stroke=\"slategray\" d=\"M226.17,-15C233.87,-15 277.17,-15 289.39,-15\"/>\n",
       "<polygon fill=\"slategray\" stroke=\"slategray\" points=\"291.6,-15 289.6,-16.13 290.6,-15 289.6,-15 289.6,-15 289.6,-15 290.6,-15 289.6,-13.88 291.6,-15 291.6,-15\"/>\n",
       "</g>\n",
       "<!-- (1, 0) -->\n",
       "<g id=\"node3\" class=\"node\">\n",
       "<title>(1, 0)</title>\n",
       "<ellipse fill=\"blue\" stroke=\"blue\" cx=\"343.2\" cy=\"-30\" rx=\"1.8\" ry=\"1.8\"/>\n",
       "<text text-anchor=\"middle\" x=\"320.9\" y=\"-21.8\" font-family=\"Courier,monospace\" font-size=\"8.00\">FCNode[0]</text>\n",
       "</g>\n",
       "<!-- (3, 0) -->\n",
       "<g id=\"node4\" class=\"node\">\n",
       "<title>(3, 0)</title>\n",
       "<ellipse fill=\"slategray\" stroke=\"slategray\" cx=\"343.2\" cy=\"-15\" rx=\"1.8\" ry=\"1.8\"/>\n",
       "<text text-anchor=\"middle\" x=\"325.4\" y=\"-6.8\" font-family=\"Courier,monospace\" font-size=\"8.00\">meas[0]</text>\n",
       "</g>\n",
       "<!-- (4, 0) -->\n",
       "<g id=\"node5\" class=\"node\">\n",
       "<title>(4, 0)</title>\n",
       "<ellipse fill=\"black\" stroke=\"black\" cx=\"224\" cy=\"-30\" rx=\"1.8\" ry=\"1.8\"/>\n",
       "</g>\n",
       "<!-- (5, 0) -->\n",
       "<g id=\"node6\" class=\"node\">\n",
       "<title>(5, 0)</title>\n",
       "<ellipse fill=\"black\" stroke=\"black\" cx=\"293.6\" cy=\"-30\" rx=\"1.8\" ry=\"1.8\"/>\n",
       "<text text-anchor=\"middle\" x=\"288.8\" y=\"-21.8\" font-family=\"Helvetica,sans-Serif\" font-size=\"8.00\">0</text>\n",
       "</g>\n",
       "<!-- (4, 0)&#45;&gt;(5, 0) -->\n",
       "<g id=\"edge3\" class=\"edge\">\n",
       "<title>(4, 0)&#45;&gt;(5, 0)</title>\n",
       "<path fill=\"none\" stroke=\"blue\" d=\"M226.17,-30C233.87,-30 277.17,-30 289.39,-30\"/>\n",
       "<polygon fill=\"blue\" stroke=\"blue\" points=\"291.6,-30 289.6,-31.13 290.6,-30 289.6,-30 289.6,-30 289.6,-30 290.6,-30 289.6,-28.88 291.6,-30 291.6,-30\"/>\n",
       "</g>\n",
       "<!-- (5, 0)&#45;&gt;(1, 0) -->\n",
       "<g id=\"edge4\" class=\"edge\">\n",
       "<title>(5, 0)&#45;&gt;(1, 0)</title>\n",
       "<path fill=\"none\" stroke=\"blue\" d=\"M295.43,-30C300.62,-30 328.83,-30 338.75,-30\"/>\n",
       "<polygon fill=\"blue\" stroke=\"blue\" points=\"341.19,-30 339.19,-31.13 340.19,-30 339.19,-30 339.19,-30 339.19,-30 340.19,-30 339.19,-28.88 341.19,-30 341.19,-30\"/>\n",
       "</g>\n",
       "<!-- (5, 1)&#45;&gt;(3, 0) -->\n",
       "<g id=\"edge5\" class=\"edge\">\n",
       "<title>(5, 1)&#45;&gt;(3, 0)</title>\n",
       "<path fill=\"none\" stroke=\"slategray\" d=\"M295.43,-15C300.62,-15 328.83,-15 338.75,-15\"/>\n",
       "<polygon fill=\"slategray\" stroke=\"slategray\" points=\"341.19,-15 339.19,-16.13 340.19,-15 339.19,-15 339.19,-15 339.19,-15 340.19,-15 339.19,-13.88 341.19,-15 341.19,-15\"/>\n",
       "</g>\n",
       "<!-- (6, 0)&#45;&gt;(4, 0) -->\n",
       "<g id=\"edge6\" class=\"edge\">\n",
       "<title>(6, 0)&#45;&gt;(4, 0)</title>\n",
       "<path fill=\"none\" stroke=\"blue\" d=\"M125.51,-30C135.11,-30 204.26,-30 219.87,-30\"/>\n",
       "<polygon fill=\"blue\" stroke=\"blue\" points=\"222.02,-30 220.02,-31.13 221.02,-30 220.02,-30 220.02,-30 220.02,-30 221.02,-30 220.02,-28.88 222.02,-30 222.02,-30\"/>\n",
       "</g>\n",
       "</g>\n",
       "</svg>\n"
      ],
      "text/plain": [
       "<graphviz.dot.Digraph at 0x7fa6ea48e950>"
      ]
     },
     "execution_count": 14,
     "metadata": {},
     "output_type": "execute_result"
    }
   ],
   "source": [
    "Graph(tket_circuit).get_DAG()"
   ]
  },
  {
   "cell_type": "code",
   "execution_count": null,
   "metadata": {},
   "outputs": [],
   "source": []
  }
 ],
 "metadata": {
  "kernelspec": {
   "display_name": "Python 3",
   "language": "python",
   "name": "python3"
  },
  "language_info": {
   "codemirror_mode": {
    "name": "ipython",
    "version": 3
   },
   "file_extension": ".py",
   "mimetype": "text/x-python",
   "name": "python",
   "nbconvert_exporter": "python",
   "pygments_lexer": "ipython3",
   "version": "3.7.7"
  }
 },
 "nbformat": 4,
 "nbformat_minor": 4
}
